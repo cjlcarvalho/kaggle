{
 "cells": [
  {
   "cell_type": "code",
   "execution_count": 1,
   "metadata": {},
   "outputs": [
    {
     "name": "stderr",
     "output_type": "stream",
     "text": [
      "Using TensorFlow backend.\n"
     ]
    }
   ],
   "source": [
    "import numpy as np\n",
    "import matplotlib.pyplot as plt\n",
    "import pandas as pd\n",
    "\n",
    "from keras.models import Sequential\n",
    "from keras.layers import Dense\n",
    "from keras.optimizers import Adam\n",
    "from sklearn.metrics import precision_score, accuracy_score\n",
    "from sklearn.model_selection import train_test_split"
   ]
  },
  {
   "cell_type": "code",
   "execution_count": 2,
   "metadata": {},
   "outputs": [],
   "source": [
    "def encode_cabin(dataframe, section):\n",
    "    dataframe.loc[dataframe[\"Cabin\"].str.contains(section), f\"is_on_{section}\"] = 1\n",
    "    dataframe.loc[~dataframe[\"Cabin\"].str.contains(section), f\"is_on_{section}\"] = 0\n",
    "\n",
    "    return dataframe\n",
    "\n",
    "\n",
    "def clean_data(dataframe):\n",
    "\n",
    "    dataframe.drop([\"Name\", \"PassengerId\", \"Ticket\"], axis=1, inplace=True)\n",
    "\n",
    "    dataframe.loc[dataframe[\"Sex\"] == \"male\", \"Sex\"] = 1\n",
    "    dataframe.loc[dataframe[\"Sex\"] == \"female\", \"Sex\"] = 0\n",
    "\n",
    "    dataframe.loc[dataframe[\"Embarked\"].isna(), \"Embarked\"] = -1\n",
    "    dataframe.loc[dataframe[\"Embarked\"] == \"C\", \"Embarked\"] = 0\n",
    "    dataframe.loc[dataframe[\"Embarked\"] == \"Q\", \"Embarked\"] = 1\n",
    "    dataframe.loc[dataframe[\"Embarked\"] == \"S\", \"Embarked\"] = 2\n",
    "\n",
    "    dataframe.loc[dataframe[\"Cabin\"].isna(), \"Cabin\"] = \"U\"\n",
    "\n",
    "    for letter in [\"A\", \"B\", \"C\", \"D\", \"E\", \"F\", \"G\", \"T\"]:\n",
    "        encode_cabin(dataframe, letter)\n",
    "\n",
    "    dataframe.drop(\"Cabin\", axis=1, inplace=True)\n",
    "\n",
    "    dataframe.loc[dataframe[\"Age\"].isna(), \"Age\"] = -1"
   ]
  },
  {
   "cell_type": "code",
   "execution_count": 3,
   "metadata": {},
   "outputs": [],
   "source": [
    "df_train = pd.read_csv(\"train.csv\")\n",
    "clean_data(df_train)"
   ]
  },
  {
   "cell_type": "code",
   "execution_count": 4,
   "metadata": {},
   "outputs": [],
   "source": [
    "X = df_train.copy()\n",
    "X.drop(\"Survived\", axis=1, inplace=True)\n",
    "X = X.values\n",
    "Y = df_train[\"Survived\"]\n",
    "Y = Y.values"
   ]
  },
  {
   "cell_type": "code",
   "execution_count": 5,
   "metadata": {},
   "outputs": [],
   "source": [
    "X_train, X_val, y_train, y_val = train_test_split(X, Y, train_size=0.75)"
   ]
  },
  {
   "cell_type": "code",
   "execution_count": 6,
   "metadata": {},
   "outputs": [],
   "source": [
    "def Model():\n",
    "\n",
    "    model = Sequential()\n",
    "    model.add(Dense(4, input_shape=(15,), activation=\"relu\"))\n",
    "    model.add(Dense(4, activation=\"relu\"))\n",
    "    model.add(Dense(1, activation=\"sigmoid\"))\n",
    "    model.compile(\n",
    "        loss=\"binary_crossentropy\", optimizer=\"adam\", metrics=[\"accuracy\", \"mse\", \"mae\"]\n",
    "    )\n",
    "\n",
    "    return model"
   ]
  },
  {
   "cell_type": "code",
   "execution_count": 7,
   "metadata": {},
   "outputs": [],
   "source": [
    "model = Model()\n",
    "\n",
    "training_history = model.fit(\n",
    "    X_train,\n",
    "    y_train,\n",
    "    validation_data=(X_val, y_val),\n",
    "    batch_size=10,\n",
    "    epochs=60,\n",
    "    verbose=0,\n",
    ")"
   ]
  },
  {
   "cell_type": "code",
   "execution_count": 8,
   "metadata": {
    "scrolled": true
   },
   "outputs": [
    {
     "data": {
      "image/png": "[encoded data removed]",
      "text/plain": [
       "<Figure size 432x288 with 1 Axes>"
      ]
     },
     "metadata": {
      "needs_background": "light"
     },
     "output_type": "display_data"
    }
   ],
   "source": [
    "plt.plot(training_history.history[\"loss\"])\n",
    "plt.plot(training_history.history[\"val_loss\"])\n",
    "plt.title(\"Binary Crossentropy\")\n",
    "plt.ylabel(\"loss\")\n",
    "plt.xlabel(\"Epoch\")\n",
    "plt.legend([\"Train\", \"Validation\"], loc=\"upper left\")\n",
    "plt.show()"
   ]
  },
  {
   "cell_type": "code",
   "execution_count": 9,
   "metadata": {},
   "outputs": [],
   "source": [
    "def evaluate_predict(X, y):\n",
    "    y_pred = model.predict(X)\n",
    "    y_pred = y_pred > 0.5\n",
    "\n",
    "    print(\"Precision: \" + str(precision_score(y, y_pred)))\n",
    "    print(\"Accuracy: \" + str(accuracy_score(y, y_pred)))"
   ]
  },
  {
   "cell_type": "code",
   "execution_count": 10,
   "metadata": {
    "scrolled": true
   },
   "outputs": [
    {
     "name": "stdout",
     "output_type": "stream",
     "text": [
      "#### Train ####\n",
      "Precision: 0.7543859649122807\n",
      "Accuracy: 0.7889221556886228\n"
     ]
    }
   ],
   "source": [
    "print(\"#### Train ####\")\n",
    "evaluate_predict(X_train, y_train)"
   ]
  },
  {
   "cell_type": "code",
   "execution_count": 11,
   "metadata": {},
   "outputs": [
    {
     "name": "stdout",
     "output_type": "stream",
     "text": [
      "#### Validate ####\n",
      "Precision: 0.6463414634146342\n",
      "Accuracy: 0.726457399103139\n"
     ]
    }
   ],
   "source": [
    "print(\"#### Validate ####\")\n",
    "evaluate_predict(X_val, y_val)"
   ]
  },
  {
   "cell_type": "code",
   "execution_count": 12,
   "metadata": {},
   "outputs": [],
   "source": [
    "df_test = pd.read_csv(\"test.csv\")\n",
    "clean_data(df_test)\n",
    "X_test = df_test"
   ]
  },
  {
   "cell_type": "code",
   "execution_count": 13,
   "metadata": {},
   "outputs": [],
   "source": [
    "y_test = pd.read_csv(\"gender_submission.csv\")\n",
    "\n",
    "passenger_ids = y_test[\"PassengerId\"].values\n",
    "\n",
    "y_test.drop(\"PassengerId\", axis=1, inplace=True)"
   ]
  },
  {
   "cell_type": "code",
   "execution_count": 14,
   "metadata": {},
   "outputs": [
    {
     "name": "stdout",
     "output_type": "stream",
     "text": [
      "#### Test ####\n",
      "Precision: 0.825503355704698\n",
      "Accuracy: 0.868421052631579\n"
     ]
    },
    {
     "name": "stderr",
     "output_type": "stream",
     "text": [
      "/usr/lib/python3.7/site-packages/ipykernel_launcher.py:3: RuntimeWarning: invalid value encountered in greater\n",
      "  This is separate from the ipykernel package so we can avoid doing imports until\n"
     ]
    }
   ],
   "source": [
    "print(\"#### Test ####\")\n",
    "evaluate_predict(X_test.values, y_test.values)"
   ]
  },
  {
   "cell_type": "code",
   "execution_count": 15,
   "metadata": {},
   "outputs": [
    {
     "name": "stderr",
     "output_type": "stream",
     "text": [
      "/usr/lib/python3.7/site-packages/ipykernel_launcher.py:2: RuntimeWarning: invalid value encountered in greater\n",
      "  \n"
     ]
    }
   ],
   "source": [
    "y_test_pred = model.predict(X_test)\n",
    "y_test_pred = y_test_pred > 0.5\n",
    "\n",
    "survived = []\n",
    "for p in y_test_pred:\n",
    "    survived.append(int(p[0]))\n",
    "\n",
    "prediction = pd.DataFrame({\"PassengerId\": passenger_ids, \"Survived\": survived})\n",
    "prediction.to_csv(\"prediction.csv\", index=False)"
   ]
  }
 ],
 "metadata": {
  "kernelspec": {
   "display_name": "Python 3",
   "language": "python",
   "name": "python3"
  },
  "language_info": {
   "codemirror_mode": {
    "name": "ipython",
    "version": 3
   },
   "file_extension": ".py",
   "mimetype": "text/x-python",
   "name": "python",
   "nbconvert_exporter": "python",
   "pygments_lexer": "ipython3",
   "version": "3.7.4"
  }
 },
 "nbformat": 4,
 "nbformat_minor": 2
}
